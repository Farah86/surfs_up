{
 "cells": [
  {
   "cell_type": "code",
   "execution_count": 27,
   "id": "3c1da18c",
   "metadata": {},
   "outputs": [],
   "source": [
    "#import the dependencies\n",
    "import datetime as dt\n",
    "import numpy as np\n",
    "import pandas as pd"
   ]
  },
  {
   "cell_type": "code",
   "execution_count": 28,
   "id": "72c9a8d2",
   "metadata": {},
   "outputs": [],
   "source": [
    "#import the dependencies that we need for SQLAlchemy\n",
    "import sqlalchemy\n",
    "from sqlalchemy.ext.automap import automap_base\n",
    "from sqlalchemy.orm import Session\n",
    "from sqlalchemy import create_engine, func"
   ]
  },
  {
   "cell_type": "code",
   "execution_count": 29,
   "id": "50b5bae5",
   "metadata": {},
   "outputs": [],
   "source": [
    "#dependencies that we need for Flask\n",
    "from flask import Flask, jsonify"
   ]
  },
  {
   "cell_type": "code",
   "execution_count": 30,
   "id": "95e77706",
   "metadata": {},
   "outputs": [],
   "source": [
    "#set up our database engine for the Flask application\n",
    "engine = create_engine(\"sqlite:///hawaii.sqlite\")"
   ]
  },
  {
   "cell_type": "code",
   "execution_count": 31,
   "id": "64f41dbc",
   "metadata": {},
   "outputs": [],
   "source": [
    "#reflect the database into our classes\n",
    "Base = automap_base()"
   ]
  },
  {
   "cell_type": "code",
   "execution_count": 32,
   "id": "9521a0ae",
   "metadata": {},
   "outputs": [],
   "source": [
    "#following code to reflect the database\n",
    "Base.prepare(engine, reflect=True)"
   ]
  },
  {
   "cell_type": "code",
   "execution_count": 33,
   "id": "938dea31",
   "metadata": {},
   "outputs": [],
   "source": [
    "#create a variable for each of the classes so that we can reference them later\n",
    "Measurement = Base.classes.measurement\n",
    "Station = Base.classes.station"
   ]
  },
  {
   "cell_type": "code",
   "execution_count": 34,
   "id": "3f11ef33",
   "metadata": {},
   "outputs": [],
   "source": [
    "#create a session link from Python to our database \n",
    "session = Session(engine)"
   ]
  },
  {
   "cell_type": "code",
   "execution_count": 35,
   "id": "0e0c42c8",
   "metadata": {},
   "outputs": [],
   "source": [
    "#define our Flask app\n",
    "app = Flask(__name__)"
   ]
  },
  {
   "cell_type": "code",
   "execution_count": 36,
   "id": "267ce289",
   "metadata": {},
   "outputs": [],
   "source": [
    "#define the welcome route using the code below\n",
    "@app.route(\"/\")\n",
    "def welcome():\n",
    "    return(\n",
    "    '''\n",
    "    Welcome to the Climate Analysis API!\n",
    "    Available Routes:\n",
    "    /api/v1.0/precipitation\n",
    "    /api/v1.0/stations\n",
    "    /api/v1.0/tobs\n",
    "    /api/v1.0/temp/start/end\n",
    "    ''')"
   ]
  },
  {
   "cell_type": "code",
   "execution_count": null,
   "id": "dca58410",
   "metadata": {},
   "outputs": [],
   "source": []
  }
 ],
 "metadata": {
  "kernelspec": {
   "display_name": "Python 3 (ipykernel)",
   "language": "python",
   "name": "python3"
  },
  "language_info": {
   "codemirror_mode": {
    "name": "ipython",
    "version": 3
   },
   "file_extension": ".py",
   "mimetype": "text/x-python",
   "name": "python",
   "nbconvert_exporter": "python",
   "pygments_lexer": "ipython3",
   "version": "3.7.11"
  }
 },
 "nbformat": 4,
 "nbformat_minor": 5
}
